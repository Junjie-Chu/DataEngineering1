{
 "cells": [
  {
   "cell_type": "code",
   "execution_count": 221,
   "id": "spread-baseball",
   "metadata": {},
   "outputs": [],
   "source": [
    "from pyspark.sql import SparkSession\n",
    "\n",
    "# New API\n",
    "spark_session = SparkSession\\\n",
    "        .builder\\\n",
    "        .master(\"spark://192.168.2.113:7077\") \\\n",
    "        .appName(\"JunjieChuA3PartA\")\\\n",
    "        .config(\"spark.dynamicAllocation.enabled\", True)\\\n",
    "        .config(\"spark.shuffle.service.enabled\", True)\\\n",
    "        .config(\"spark.dynamicAllocation.executorIdleTimeout\",\"30s\")\\\n",
    "        .config(\"spark.executor.cores\",2)\\\n",
    "        .config(\"spark.driver.port\",9998)\\\n",
    "        .config(\"spark.blockManager.port\",10005)\\\n",
    "        .getOrCreate()\n",
    "\n",
    "# Old API (RDD)\n",
    "spark_context = spark_session.sparkContext\n",
    "spark_context.setLogLevel(\"INFO\")"
   ]
  },
  {
   "cell_type": "code",
   "execution_count": 222,
   "id": "binding-compound",
   "metadata": {},
   "outputs": [
    {
     "name": "stdout",
     "output_type": "stream",
     "text": [
      "632565\n",
      "632565\n",
      "2\n",
      "2\n"
     ]
    }
   ],
   "source": [
    "lines1 = spark_context.textFile(\"hdfs://192.168.2.113:9000/europarl/europarl-v7.pl-en.en\")\n",
    "lines2 = spark_context.textFile(\"hdfs://192.168.2.113:9000/europarl/europarl-v7.pl-en.pl\")\n",
    "print(lines1.count())\n",
    "print(lines2.count())\n",
    "print(lines1.getNumPartitions())\n",
    "print(lines2.getNumPartitions())"
   ]
  },
  {
   "cell_type": "code",
   "execution_count": 223,
   "id": "fifty-calcium",
   "metadata": {},
   "outputs": [],
   "source": [
    "def preprocessmap(lines):\n",
    "    lowlines=lines.map(lambda line: line.lower())\n",
    "    words=lowlines.map(lambda word: word.split(' '))\n",
    "    return(words)\n",
    "\n",
    "def preprocessflatmap(lines):\n",
    "    lowlines=lines.map(lambda line: line.lower())\n",
    "    words=lowlines.flatMap(lambda word: word.split(' '))\n",
    "    return(words)\n",
    "    "
   ]
  },
  {
   "cell_type": "code",
   "execution_count": 224,
   "id": "premier-closing",
   "metadata": {},
   "outputs": [
    {
     "name": "stdout",
     "output_type": "stream",
     "text": [
      "En 10:\n",
      "[['action', 'taken', 'on', \"parliament's\", 'resolutions:', 'see', 'minutes'], ['documents', 'received:', 'see', 'minutes'], ['written', 'statements', '(rule', '116):', 'see', 'minutes'], ['texts', 'of', 'agreements', 'forwarded', 'by', 'the', 'council:', 'see', 'minutes'], ['membership', 'of', 'parliament:', 'see', 'minutes'], ['membership', 'of', 'committees', 'and', 'delegations:', 'see', 'minutes'], ['future', 'action', 'in', 'the', 'field', 'of', 'patents', '(motions', 'for', 'resolutions', 'tabled):', 'see', 'minutes'], ['agenda', 'for', 'next', 'sitting:', 'see', 'minutes'], ['closure', 'of', 'sitting'], ['(the', 'sitting', 'was', 'closed', 'at', '11.55', 'p.m.)']]\n",
      "Pl 10:\n",
      "[['działania', 'podjęte', 'w', 'wyniku', 'rezolucji', 'parlamentu:', 'patrz', 'protokól'], ['składanie', 'dokumentów:', 'patrz', 'protokół'], ['oświadczenia', 'pisemne', '(art.', '116', 'regulaminu):', 'patrz', 'protokół'], ['teksty', 'porozumień', 'przekazane', 'przez', 'radę:', 'patrz', 'protokół'], ['skład', 'parlamentu:', 'patrz', 'protokół'], ['skład', 'komisji', 'i', 'delegacji:', 'patrz', 'protokół'], ['przyszłe', 'działania', 'w', 'dziedzinie', 'patentów', '(złożone', 'projekty', 'rezolucji):', 'patrz', 'protokól'], ['porządek', 'dzienny', 'następnego', 'posiedzenia:', 'patrz', 'protokół'], ['zamknięcie', 'posiedzenia'], ['(la', 'seduta', 'è', 'tolta', 'alle', '23.55)']]\n",
      "lines number of en: 632565\n",
      "\n",
      "lines number of pl: 632565\n",
      "\n"
     ]
    }
   ],
   "source": [
    "wordsE = preprocessmap(lines1)\n",
    "wordsP = preprocessmap(lines2)\n",
    "print('En 10:')\n",
    "print(wordsE.take(10))\n",
    "print('Pl 10:')\n",
    "print(wordsP.take(10))\n",
    "print(f'lines number of en: {wordsE.count()}\\n')\n",
    "print(f'lines number of pl: {wordsP.count()}\\n')"
   ]
  },
  {
   "cell_type": "code",
   "execution_count": 225,
   "id": "guided-tongue",
   "metadata": {},
   "outputs": [
    {
     "name": "stdout",
     "output_type": "stream",
     "text": [
      "[('the', 1157014), ('of', 558149), ('to', 505756), ('and', 451165), ('in', 370228), ('a', 255921), ('that', 253400), ('is', 247419), ('for', 186707), ('we', 172260)]\n",
      "[('w', 488954), ('i', 342893), ('na', 220274), ('z', 189566), ('do', 163373), ('że', 156657), ('się', 155444), ('nie', 138417), ('jest', 118263), ('to', 97921)]\n"
     ]
    }
   ],
   "source": [
    "words1=preprocessflatmap(lines1)\n",
    "words2=preprocessflatmap(lines2)\n",
    "\n",
    "def countwords(words):\n",
    "    countwords = words\\\n",
    "        .map(lambda key: (key,1))\\\n",
    "        .reduceByKey(lambda x,y:x+y)\\\n",
    "        .sortBy(lambda x:x[1],False)\n",
    "    return (countwords)\n",
    "\n",
    "countwords1=countwords(words1)\n",
    "countwords2=countwords(words2)\n",
    "\n",
    "print(countwords1.take(10))\n",
    "print(countwords2.take(10))"
   ]
  },
  {
   "cell_type": "code",
   "execution_count": null,
   "id": "ordinary-friend",
   "metadata": {},
   "outputs": [],
   "source": [
    "def preprocessmapindex(lines):\n",
    "    lowlines=lines.map(lambda line: line.lower())\n",
    "    words=lowlines.map(lambda word: word.split(' ')).zipWithIndex()\n",
    "    wordsnew = words.map(lambda word:(word[1],word[0]))    \n",
    "    return(wordsnew)\n",
    "\n",
    "wordsa = preprocessmapindex(lines1)\n",
    "wordsb = preprocessmapindex(lines2)\n",
    "pairs = wordsa\\\n",
    "    .join(wordsb)\\\n",
    "    .sortBy(lambda x:x[0],True)\n",
    "\n",
    "pairs = pairs\\\n",
    "    .filter(lambda x: len(x[1][0])!=0)\\\n",
    "    .filter(lambda x: len(x[1][1])!=0)\\\n",
    "    .filter(lambda x: len(x[1][0])<=5)\\\n",
    "    .filter(lambda x: len(x[1][1])<=5)\\\n",
    "    .filter(lambda x: len(x[1][1])==len(x[1][0]))\n",
    "\n",
    "print(f'lines number: {pairs.count()}\\n')\n",
    "print(pairs.take(15))\n",
    "\n",
    "pairs = pairs\\\n",
    "    .flatMap(lambda pair:(list(zip(pair[1][0],pair[1][1]))))\\\n",
    "    .map(lambda p:(p,1))\\\n",
    "    .reduceByKey(lambda x,y:x+y)\\\n",
    "    .sortBy(lambda x:x[1],False)\n",
    "\n",
    "print('\\n')\n",
    "print(pairs.take(15))\n",
    "\n",
    "\n",
    "\n",
    "\n"
   ]
  },
  {
   "cell_type": "code",
   "execution_count": null,
   "id": "painful-palestine",
   "metadata": {},
   "outputs": [],
   "source": [
    "# release the cores for another application!\n",
    "spark_context.stop()"
   ]
  },
  {
   "cell_type": "code",
   "execution_count": null,
   "id": "further-discrimination",
   "metadata": {},
   "outputs": [],
   "source": []
  }
 ],
 "metadata": {
  "kernelspec": {
   "display_name": "Python 3",
   "language": "python",
   "name": "python3"
  },
  "language_info": {
   "codemirror_mode": {
    "name": "ipython",
    "version": 3
   },
   "file_extension": ".py",
   "mimetype": "text/x-python",
   "name": "python",
   "nbconvert_exporter": "python",
   "pygments_lexer": "ipython3",
   "version": "3.8.5"
  }
 },
 "nbformat": 4,
 "nbformat_minor": 5
}
