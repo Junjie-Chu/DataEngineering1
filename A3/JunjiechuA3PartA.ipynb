{
 "cells": [
  {
   "cell_type": "code",
   "execution_count": 81,
   "id": "social-significance",
   "metadata": {},
   "outputs": [],
   "source": [
    "from pyspark.sql import SparkSession\n",
    "\n",
    "# New API\n",
    "spark_session = SparkSession\\\n",
    "        .builder\\\n",
    "        .master(\"spark://192.168.2.113:7077\") \\\n",
    "        .appName(\"JunjieChuA3PartA\")\\\n",
    "        .config(\"spark.dynamicAllocation.enabled\", True)\\\n",
    "        .config(\"spark.shuffle.service.enabled\", True)\\\n",
    "        .config(\"spark.dynamicAllocation.executorIdleTimeout\",\"30s\")\\\n",
    "        .config(\"spark.executor.cores\",2)\\\n",
    "        .config(\"spark.driver.port\",9998)\\\n",
    "        .config(\"spark.blockManager.port\",10005)\\\n",
    "        .getOrCreate()\n",
    "\n",
    "# Old API (RDD)\n",
    "spark_context = spark_session.sparkContext\n",
    "spark_context.setLogLevel(\"INFO\")"
   ]
  },
  {
   "cell_type": "code",
   "execution_count": 82,
   "id": "synthetic-jimmy",
   "metadata": {},
   "outputs": [
    {
     "name": "stdout",
     "output_type": "stream",
     "text": [
      "632565\n",
      "632565\n",
      "2\n",
      "2\n"
     ]
    }
   ],
   "source": [
    "lines1 = spark_context.textFile(\"hdfs://192.168.2.113:9000/europarl/europarl-v7.pl-en.en\")\n",
    "lines2 = spark_context.textFile(\"hdfs://192.168.2.113:9000/europarl/europarl-v7.pl-en.pl\")\n",
    "print(lines1.count())\n",
    "print(lines2.count())\n",
    "print(lines1.getNumPartitions())\n",
    "print(lines2.getNumPartitions())"
   ]
  },
  {
   "cell_type": "code",
   "execution_count": 83,
   "id": "weird-gospel",
   "metadata": {},
   "outputs": [],
   "source": [
    "def preprocess(lines):\n",
    "    lowlines=lines.map(lambda line: line.lower())\n",
    "    words=lowlines.map(lambda word: word.split(' '))\n",
    "    return(words)\n",
    "    "
   ]
  },
  {
   "cell_type": "code",
   "execution_count": 84,
   "id": "fresh-region",
   "metadata": {},
   "outputs": [
    {
     "name": "stdout",
     "output_type": "stream",
     "text": [
      "En 10:\n",
      "[['action', 'taken', 'on', \"parliament's\", 'resolutions:', 'see', 'minutes'], ['documents', 'received:', 'see', 'minutes'], ['written', 'statements', '(rule', '116):', 'see', 'minutes'], ['texts', 'of', 'agreements', 'forwarded', 'by', 'the', 'council:', 'see', 'minutes'], ['membership', 'of', 'parliament:', 'see', 'minutes'], ['membership', 'of', 'committees', 'and', 'delegations:', 'see', 'minutes'], ['future', 'action', 'in', 'the', 'field', 'of', 'patents', '(motions', 'for', 'resolutions', 'tabled):', 'see', 'minutes'], ['agenda', 'for', 'next', 'sitting:', 'see', 'minutes'], ['closure', 'of', 'sitting'], ['(the', 'sitting', 'was', 'closed', 'at', '11.55', 'p.m.)']]\n",
      "Pl 10:\n",
      "[['działania', 'podjęte', 'w', 'wyniku', 'rezolucji', 'parlamentu:', 'patrz', 'protokól'], ['składanie', 'dokumentów:', 'patrz', 'protokół'], ['oświadczenia', 'pisemne', '(art.', '116', 'regulaminu):', 'patrz', 'protokół'], ['teksty', 'porozumień', 'przekazane', 'przez', 'radę:', 'patrz', 'protokół'], ['skład', 'parlamentu:', 'patrz', 'protokół'], ['skład', 'komisji', 'i', 'delegacji:', 'patrz', 'protokół'], ['przyszłe', 'działania', 'w', 'dziedzinie', 'patentów', '(złożone', 'projekty', 'rezolucji):', 'patrz', 'protokól'], ['porządek', 'dzienny', 'następnego', 'posiedzenia:', 'patrz', 'protokół'], ['zamknięcie', 'posiedzenia'], ['(la', 'seduta', 'è', 'tolta', 'alle', '23.55)']]\n",
      "lines number of en: 632565\n",
      "\n",
      "lines number of pl: 632565\n",
      "\n"
     ]
    }
   ],
   "source": [
    "words1 = preprocess(lines1)\n",
    "words2 = preprocess(lines2)\n",
    "print('En 10:')\n",
    "print(words1.take(10))\n",
    "print('Pl 10:')\n",
    "print(words2.take(10))\n",
    "print(f'lines number of en: {words1.count()}\\n')\n",
    "print(f'lines number of pl: {words2.count()}\\n')"
   ]
  },
  {
   "cell_type": "code",
   "execution_count": null,
   "id": "velvet-vertical",
   "metadata": {},
   "outputs": [],
   "source": []
  },
  {
   "cell_type": "code",
   "execution_count": 85,
   "id": "arranged-default",
   "metadata": {},
   "outputs": [],
   "source": [
    "# release the cores for another application!\n",
    "spark_context.stop()"
   ]
  },
  {
   "cell_type": "code",
   "execution_count": null,
   "id": "proud-pitch",
   "metadata": {},
   "outputs": [],
   "source": []
  }
 ],
 "metadata": {
  "kernelspec": {
   "display_name": "Python 3",
   "language": "python",
   "name": "python3"
  },
  "language_info": {
   "codemirror_mode": {
    "name": "ipython",
    "version": 3
   },
   "file_extension": ".py",
   "mimetype": "text/x-python",
   "name": "python",
   "nbconvert_exporter": "python",
   "pygments_lexer": "ipython3",
   "version": "3.8.5"
  }
 },
 "nbformat": 4,
 "nbformat_minor": 5
}
